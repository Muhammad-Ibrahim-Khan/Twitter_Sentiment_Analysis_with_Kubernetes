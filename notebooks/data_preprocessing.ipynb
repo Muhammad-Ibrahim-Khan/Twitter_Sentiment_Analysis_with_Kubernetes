{
 "cells": [
  {
   "cell_type": "markdown",
   "id": "ce086742",
   "metadata": {},
   "source": [
    "# Twitter Data\n",
    "\n",
    "The dataset used is \"Sentiment140\" which can be accessed at the following link\"\n",
    "> https://www.kaggle.com/kazanova/sentiment140\n",
    "\n"
   ]
  },
  {
   "cell_type": "markdown",
   "id": "c7bc629b",
   "metadata": {},
   "source": [
    "## Imports"
   ]
  },
  {
   "cell_type": "code",
   "execution_count": 26,
   "id": "62c0a042",
   "metadata": {},
   "outputs": [],
   "source": [
    "import pandas as pd\n",
    "import numpy as np\n",
    "import string\n",
    "import re"
   ]
  },
  {
   "cell_type": "markdown",
   "id": "d25005e6",
   "metadata": {},
   "source": [
    "## Load Data\n",
    "\n",
    "Labels for our columns were given at its Kaggle repository"
   ]
  },
  {
   "cell_type": "code",
   "execution_count": 34,
   "id": "4f7a12e3",
   "metadata": {},
   "outputs": [],
   "source": [
    "COL_LABELS = ['Target', 'Id', 'Date', 'Flag', 'User', 'Text']\n",
    "DATASET_ENC = 'latin-1'"
   ]
  },
  {
   "cell_type": "code",
   "execution_count": 35,
   "id": "e3b4d938",
   "metadata": {},
   "outputs": [],
   "source": [
    "# Loading our sentiment140 dataset\n",
    "df = pd.read_csv(\"1.6m_tweets.csv\", encoding = DATASET_ENC, names = COL_LABELS, usecols = [0, 5])"
   ]
  },
  {
   "cell_type": "markdown",
   "id": "f3e762d9",
   "metadata": {},
   "source": [
    "## Examining our Data"
   ]
  },
  {
   "cell_type": "code",
   "execution_count": 36,
   "id": "6c37d123",
   "metadata": {},
   "outputs": [
    {
     "data": {
      "text/html": [
       "<div>\n",
       "<style scoped>\n",
       "    .dataframe tbody tr th:only-of-type {\n",
       "        vertical-align: middle;\n",
       "    }\n",
       "\n",
       "    .dataframe tbody tr th {\n",
       "        vertical-align: top;\n",
       "    }\n",
       "\n",
       "    .dataframe thead th {\n",
       "        text-align: right;\n",
       "    }\n",
       "</style>\n",
       "<table border=\"1\" class=\"dataframe\">\n",
       "  <thead>\n",
       "    <tr style=\"text-align: right;\">\n",
       "      <th></th>\n",
       "      <th>Target</th>\n",
       "      <th>Text</th>\n",
       "    </tr>\n",
       "  </thead>\n",
       "  <tbody>\n",
       "    <tr>\n",
       "      <th>0</th>\n",
       "      <td>0</td>\n",
       "      <td>@switchfoot http://twitpic.com/2y1zl - Awww, t...</td>\n",
       "    </tr>\n",
       "    <tr>\n",
       "      <th>1</th>\n",
       "      <td>0</td>\n",
       "      <td>is upset that he can't update his Facebook by ...</td>\n",
       "    </tr>\n",
       "    <tr>\n",
       "      <th>2</th>\n",
       "      <td>0</td>\n",
       "      <td>@Kenichan I dived many times for the ball. Man...</td>\n",
       "    </tr>\n",
       "    <tr>\n",
       "      <th>3</th>\n",
       "      <td>0</td>\n",
       "      <td>my whole body feels itchy and like its on fire</td>\n",
       "    </tr>\n",
       "    <tr>\n",
       "      <th>4</th>\n",
       "      <td>0</td>\n",
       "      <td>@nationwideclass no, it's not behaving at all....</td>\n",
       "    </tr>\n",
       "    <tr>\n",
       "      <th>...</th>\n",
       "      <td>...</td>\n",
       "      <td>...</td>\n",
       "    </tr>\n",
       "    <tr>\n",
       "      <th>1599995</th>\n",
       "      <td>4</td>\n",
       "      <td>Just woke up. Having no school is the best fee...</td>\n",
       "    </tr>\n",
       "    <tr>\n",
       "      <th>1599996</th>\n",
       "      <td>4</td>\n",
       "      <td>TheWDB.com - Very cool to hear old Walt interv...</td>\n",
       "    </tr>\n",
       "    <tr>\n",
       "      <th>1599997</th>\n",
       "      <td>4</td>\n",
       "      <td>Are you ready for your MoJo Makeover? Ask me f...</td>\n",
       "    </tr>\n",
       "    <tr>\n",
       "      <th>1599998</th>\n",
       "      <td>4</td>\n",
       "      <td>Happy 38th Birthday to my boo of alll time!!! ...</td>\n",
       "    </tr>\n",
       "    <tr>\n",
       "      <th>1599999</th>\n",
       "      <td>4</td>\n",
       "      <td>happy #charitytuesday @theNSPCC @SparksCharity...</td>\n",
       "    </tr>\n",
       "  </tbody>\n",
       "</table>\n",
       "<p>1600000 rows × 2 columns</p>\n",
       "</div>"
      ],
      "text/plain": [
       "         Target                                               Text\n",
       "0             0  @switchfoot http://twitpic.com/2y1zl - Awww, t...\n",
       "1             0  is upset that he can't update his Facebook by ...\n",
       "2             0  @Kenichan I dived many times for the ball. Man...\n",
       "3             0    my whole body feels itchy and like its on fire \n",
       "4             0  @nationwideclass no, it's not behaving at all....\n",
       "...         ...                                                ...\n",
       "1599995       4  Just woke up. Having no school is the best fee...\n",
       "1599996       4  TheWDB.com - Very cool to hear old Walt interv...\n",
       "1599997       4  Are you ready for your MoJo Makeover? Ask me f...\n",
       "1599998       4  Happy 38th Birthday to my boo of alll time!!! ...\n",
       "1599999       4  happy #charitytuesday @theNSPCC @SparksCharity...\n",
       "\n",
       "[1600000 rows x 2 columns]"
      ]
     },
     "execution_count": 36,
     "metadata": {},
     "output_type": "execute_result"
    }
   ],
   "source": [
    "df"
   ]
  },
  {
   "cell_type": "code",
   "execution_count": 30,
   "id": "a696746f",
   "metadata": {},
   "outputs": [
    {
     "name": "stdout",
     "output_type": "stream",
     "text": [
      "Just woke up. Having no school is the best feeling ever \n",
      "4\n",
      "@switchfoot http://twitpic.com/2y1zl - Awww, that's a bummer.  You shoulda got David Carr of Third Day to do it. ;D\n",
      "0\n"
     ]
    }
   ],
   "source": [
    "print(df['Text'][1599995])\n",
    "print(df['Target'][1599995])\n",
    "\n",
    "print(df['Text'][0])\n",
    "print(df['Target'][0])"
   ]
  },
  {
   "cell_type": "markdown",
   "id": "f8e19404",
   "metadata": {},
   "source": [
    "### Checking whether our data has any unlabelled entry and how many unique values are there for our sentiment analysis"
   ]
  },
  {
   "cell_type": "code",
   "execution_count": 18,
   "id": "72dd95d2",
   "metadata": {},
   "outputs": [],
   "source": [
    "# Setting score of 4 to 1.\n",
    "df['Target'] = df['Target'].replace(4, 1)"
   ]
  },
  {
   "cell_type": "code",
   "execution_count": 31,
   "id": "d30e0705",
   "metadata": {},
   "outputs": [
    {
     "name": "stdout",
     "output_type": "stream",
     "text": [
      "Number of unlabelled entries in our data: 0\n",
      "Number of unqiue targets(scores) for our text data: 2\n"
     ]
    }
   ],
   "source": [
    "print(f'Number of unlabelled entries in our data: {np.sum(df.isnull().any(axis=1))}')\n",
    "print(f'Number of unqiue targets(scores) for our text data: {df[\"Target\"].nunique()}')"
   ]
  },
  {
   "cell_type": "code",
   "execution_count": 37,
   "id": "e41fd557",
   "metadata": {
    "scrolled": true
   },
   "outputs": [
    {
     "data": {
      "text/plain": [
       "<Axes: xlabel='Target', ylabel='count'>"
      ]
     },
     "execution_count": 37,
     "metadata": {},
     "output_type": "execute_result"
    },
    {
     "data": {
      "image/png": "[encoded data removed]",
      "text/plain": [
       "<Figure size 640x480 with 1 Axes>"
      ]
     },
     "metadata": {},
     "output_type": "display_data"
    }
   ],
   "source": [
    "import seaborn as sns\n",
    "sns.countplot(x='Target', data=df)"
   ]
  },
  {
   "cell_type": "markdown",
   "id": "d750342f",
   "metadata": {},
   "source": [
    "#### Conclusion\n",
    "- There are no empty sets\n",
    "- Only two sentiments are present: Positive and Negative\n",
    "- Our data is evenly distributed"
   ]
  },
  {
   "cell_type": "markdown",
   "id": "30e28cf1",
   "metadata": {},
   "source": [
    "## Data Pre-processing\n",
    "After viewing that data, the following steps need to be performed:\n",
    "\n",
    "- Remove links\n",
    "- Remove tags(@MIKe)\n",
    "- Removing numbers (Happy 13th birthday -> Happy birthday)\n",
    "- Remove emojis(Not yet)\n"
   ]
  },
  {
   "cell_type": "code",
   "execution_count": 38,
   "id": "aa317ae3",
   "metadata": {},
   "outputs": [
    {
     "data": {
      "text/html": [
       "<div>\n",
       "<style scoped>\n",
       "    .dataframe tbody tr th:only-of-type {\n",
       "        vertical-align: middle;\n",
       "    }\n",
       "\n",
       "    .dataframe tbody tr th {\n",
       "        vertical-align: top;\n",
       "    }\n",
       "\n",
       "    .dataframe thead th {\n",
       "        text-align: right;\n",
       "    }\n",
       "</style>\n",
       "<table border=\"1\" class=\"dataframe\">\n",
       "  <thead>\n",
       "    <tr style=\"text-align: right;\">\n",
       "      <th></th>\n",
       "      <th>Target</th>\n",
       "      <th>Text</th>\n",
       "    </tr>\n",
       "  </thead>\n",
       "  <tbody>\n",
       "    <tr>\n",
       "      <th>0</th>\n",
       "      <td>0</td>\n",
       "      <td>@switchfoot http://twitpic.com/2y1zl - Awww, t...</td>\n",
       "    </tr>\n",
       "    <tr>\n",
       "      <th>1</th>\n",
       "      <td>0</td>\n",
       "      <td>is upset that he can't update his Facebook by ...</td>\n",
       "    </tr>\n",
       "    <tr>\n",
       "      <th>2</th>\n",
       "      <td>0</td>\n",
       "      <td>@Kenichan I dived many times for the ball. Man...</td>\n",
       "    </tr>\n",
       "    <tr>\n",
       "      <th>3</th>\n",
       "      <td>0</td>\n",
       "      <td>my whole body feels itchy and like its on fire</td>\n",
       "    </tr>\n",
       "    <tr>\n",
       "      <th>4</th>\n",
       "      <td>0</td>\n",
       "      <td>@nationwideclass no, it's not behaving at all....</td>\n",
       "    </tr>\n",
       "    <tr>\n",
       "      <th>...</th>\n",
       "      <td>...</td>\n",
       "      <td>...</td>\n",
       "    </tr>\n",
       "    <tr>\n",
       "      <th>1599995</th>\n",
       "      <td>4</td>\n",
       "      <td>Just woke up. Having no school is the best fee...</td>\n",
       "    </tr>\n",
       "    <tr>\n",
       "      <th>1599996</th>\n",
       "      <td>4</td>\n",
       "      <td>TheWDB.com - Very cool to hear old Walt interv...</td>\n",
       "    </tr>\n",
       "    <tr>\n",
       "      <th>1599997</th>\n",
       "      <td>4</td>\n",
       "      <td>Are you ready for your MoJo Makeover? Ask me f...</td>\n",
       "    </tr>\n",
       "    <tr>\n",
       "      <th>1599998</th>\n",
       "      <td>4</td>\n",
       "      <td>Happy 38th Birthday to my boo of alll time!!! ...</td>\n",
       "    </tr>\n",
       "    <tr>\n",
       "      <th>1599999</th>\n",
       "      <td>4</td>\n",
       "      <td>happy #charitytuesday @theNSPCC @SparksCharity...</td>\n",
       "    </tr>\n",
       "  </tbody>\n",
       "</table>\n",
       "<p>1600000 rows × 2 columns</p>\n",
       "</div>"
      ],
      "text/plain": [
       "         Target                                               Text\n",
       "0             0  @switchfoot http://twitpic.com/2y1zl - Awww, t...\n",
       "1             0  is upset that he can't update his Facebook by ...\n",
       "2             0  @Kenichan I dived many times for the ball. Man...\n",
       "3             0    my whole body feels itchy and like its on fire \n",
       "4             0  @nationwideclass no, it's not behaving at all....\n",
       "...         ...                                                ...\n",
       "1599995       4  Just woke up. Having no school is the best fee...\n",
       "1599996       4  TheWDB.com - Very cool to hear old Walt interv...\n",
       "1599997       4  Are you ready for your MoJo Makeover? Ask me f...\n",
       "1599998       4  Happy 38th Birthday to my boo of alll time!!! ...\n",
       "1599999       4  happy #charitytuesday @theNSPCC @SparksCharity...\n",
       "\n",
       "[1600000 rows x 2 columns]"
      ]
     },
     "execution_count": 38,
     "metadata": {},
     "output_type": "execute_result"
    }
   ],
   "source": [
    "df"
   ]
  },
  {
   "cell_type": "markdown",
   "id": "3536fd05",
   "metadata": {},
   "source": [
    "### Create cleansing functions"
   ]
  },
  {
   "cell_type": "code",
   "execution_count": 39,
   "id": "7fd40501",
   "metadata": {},
   "outputs": [],
   "source": [
    "def cleaning_URLs(data):\n",
    "    return re.sub(r'((www.\\S+)|(https?://\\S+))',r' ',data)\n",
    "\n",
    "def cleaning_numbers(data):\n",
    "    return re.sub(r'[0-9]\\S+', r'', data)\n",
    "\n",
    "def cleaning_tags(data):\n",
    "    return re.sub(r'(@\\S+) | (#\\S+)', r'', data)\n",
    "\n",
    "def cleaning_punctuations(text):\n",
    "    punctuations_list = string.punctuation\n",
    "    translator = str.maketrans('', '', punctuations_list)\n",
    "    return text.translate(translator)"
   ]
  },
  {
   "cell_type": "markdown",
   "id": "7e81812c",
   "metadata": {},
   "source": [
    "### Operation 'Begone'"
   ]
  },
  {
   "cell_type": "code",
   "execution_count": 40,
   "id": "d93e0285",
   "metadata": {
    "scrolled": true
   },
   "outputs": [],
   "source": [
    "df['Text'] = df['Text'].apply(lambda x: cleaning_URLs(x))\n",
    "df['Text'] = df['Text'].apply(lambda x: cleaning_numbers(x))\n",
    "df['Text'] = df['Text'].apply(lambda x: cleaning_tags(x))\n",
    "df['Text'] = df['Text'].apply(lambda x: cleaning_punctuations(x))"
   ]
  },
  {
   "cell_type": "code",
   "execution_count": 41,
   "id": "dc196a97",
   "metadata": {},
   "outputs": [
    {
     "data": {
      "text/html": [
       "<div>\n",
       "<style scoped>\n",
       "    .dataframe tbody tr th:only-of-type {\n",
       "        vertical-align: middle;\n",
       "    }\n",
       "\n",
       "    .dataframe tbody tr th {\n",
       "        vertical-align: top;\n",
       "    }\n",
       "\n",
       "    .dataframe thead th {\n",
       "        text-align: right;\n",
       "    }\n",
       "</style>\n",
       "<table border=\"1\" class=\"dataframe\">\n",
       "  <thead>\n",
       "    <tr style=\"text-align: right;\">\n",
       "      <th></th>\n",
       "      <th>Target</th>\n",
       "      <th>Text</th>\n",
       "    </tr>\n",
       "  </thead>\n",
       "  <tbody>\n",
       "    <tr>\n",
       "      <th>0</th>\n",
       "      <td>0</td>\n",
       "      <td>Awww thats a bummer  You shoulda got David ...</td>\n",
       "    </tr>\n",
       "    <tr>\n",
       "      <th>1</th>\n",
       "      <td>0</td>\n",
       "      <td>is upset that he cant update his Facebook by t...</td>\n",
       "    </tr>\n",
       "    <tr>\n",
       "      <th>2</th>\n",
       "      <td>0</td>\n",
       "      <td>I dived many times for the ball Managed to sav...</td>\n",
       "    </tr>\n",
       "    <tr>\n",
       "      <th>3</th>\n",
       "      <td>0</td>\n",
       "      <td>my whole body feels itchy and like its on fire</td>\n",
       "    </tr>\n",
       "    <tr>\n",
       "      <th>4</th>\n",
       "      <td>0</td>\n",
       "      <td>no its not behaving at all im mad why am i her...</td>\n",
       "    </tr>\n",
       "    <tr>\n",
       "      <th>...</th>\n",
       "      <td>...</td>\n",
       "      <td>...</td>\n",
       "    </tr>\n",
       "    <tr>\n",
       "      <th>1599995</th>\n",
       "      <td>4</td>\n",
       "      <td>Just woke up Having no school is the best feel...</td>\n",
       "    </tr>\n",
       "    <tr>\n",
       "      <th>1599996</th>\n",
       "      <td>4</td>\n",
       "      <td>TheWDBcom  Very cool to hear old Walt intervie...</td>\n",
       "    </tr>\n",
       "    <tr>\n",
       "      <th>1599997</th>\n",
       "      <td>4</td>\n",
       "      <td>Are you ready for your MoJo Makeover Ask me fo...</td>\n",
       "    </tr>\n",
       "    <tr>\n",
       "      <th>1599998</th>\n",
       "      <td>4</td>\n",
       "      <td>Happy  Birthday to my boo of alll time Tupac A...</td>\n",
       "    </tr>\n",
       "    <tr>\n",
       "      <th>1599999</th>\n",
       "      <td>4</td>\n",
       "      <td>happy</td>\n",
       "    </tr>\n",
       "  </tbody>\n",
       "</table>\n",
       "<p>1600000 rows × 2 columns</p>\n",
       "</div>"
      ],
      "text/plain": [
       "         Target                                               Text\n",
       "0             0     Awww thats a bummer  You shoulda got David ...\n",
       "1             0  is upset that he cant update his Facebook by t...\n",
       "2             0  I dived many times for the ball Managed to sav...\n",
       "3             0    my whole body feels itchy and like its on fire \n",
       "4             0  no its not behaving at all im mad why am i her...\n",
       "...         ...                                                ...\n",
       "1599995       4  Just woke up Having no school is the best feel...\n",
       "1599996       4  TheWDBcom  Very cool to hear old Walt intervie...\n",
       "1599997       4  Are you ready for your MoJo Makeover Ask me fo...\n",
       "1599998       4  Happy  Birthday to my boo of alll time Tupac A...\n",
       "1599999       4                                             happy \n",
       "\n",
       "[1600000 rows x 2 columns]"
      ]
     },
     "execution_count": 41,
     "metadata": {},
     "output_type": "execute_result"
    }
   ],
   "source": [
    "df"
   ]
  },
  {
   "cell_type": "markdown",
   "id": "0bc3a24f",
   "metadata": {},
   "source": [
    "## Saving our data"
   ]
  },
  {
   "cell_type": "code",
   "execution_count": 42,
   "id": "af8c2f8a",
   "metadata": {},
   "outputs": [],
   "source": [
    "df.to_json('curated_data.json', orient='records', lines=True)"
   ]
  },
  {
   "cell_type": "code",
   "execution_count": null,
   "id": "ce6344f7",
   "metadata": {},
   "outputs": [],
   "source": []
  }
 ],
 "metadata": {
  "kernelspec": {
   "display_name": "k8s_demo_env",
   "language": "python",
   "name": "k8s_demo_env"
  },
  "language_info": {
   "codemirror_mode": {
    "name": "ipython",
    "version": 3
   },
   "file_extension": ".py",
   "mimetype": "text/x-python",
   "name": "python",
   "nbconvert_exporter": "python",
   "pygments_lexer": "ipython3",
   "version": "3.9.12"
  }
 },
 "nbformat": 4,
 "nbformat_minor": 5
}
